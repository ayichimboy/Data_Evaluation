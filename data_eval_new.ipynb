{
 "cells": [
  {
   "cell_type": "code",
   "execution_count": 36,
   "metadata": {},
   "outputs": [],
   "source": [
    "# import libraries\n",
    "import pandas as pd  \n",
    "import numpy as np                  \n",
    "import seaborn as sns                      \n",
    "import matplotlib.pyplot as plt"
   ]
  },
  {
   "cell_type": "code",
   "execution_count": 37,
   "metadata": {},
   "outputs": [],
   "source": [
    "# import all the data frames\n",
    "w1= pd.read_csv('weather_1.csv')\n",
    "w2 = pd.read_csv('weather_2.csv')\n",
    "w3 = pd.read_csv('weather_3.csv')\n",
    "w4 = pd.read_csv('weather_4.csv')\n",
    "w5 = pd.read_csv('weather_5.csv')\n",
    "w6 = pd.read_csv('weather_6.csv')\n",
    "w7 = pd.read_csv('weather_7.csv')\n"
   ]
  },
  {
   "cell_type": "code",
   "execution_count": 38,
   "metadata": {},
   "outputs": [
    {
     "name": "stdout",
     "output_type": "stream",
     "text": [
      "(2, 7)\n",
      "(1469, 8)\n",
      "(7306, 8)\n",
      "(37951, 7)\n",
      "(27651, 7)\n",
      "(27649, 7)\n",
      "(39063, 8)\n"
     ]
    }
   ],
   "source": [
    "print(w1.shape)\n",
    "print(w2.shape)\n",
    "print(w3.shape)\n",
    "print(w4.shape)\n",
    "print(w5.shape)\n",
    "print(w6.shape)\n",
    "print(w7.shape)"
   ]
  },
  {
   "cell_type": "code",
   "execution_count": 39,
   "metadata": {},
   "outputs": [
    {
     "data": {
      "text/html": [
       "<div>\n",
       "<style scoped>\n",
       "    .dataframe tbody tr th:only-of-type {\n",
       "        vertical-align: middle;\n",
       "    }\n",
       "\n",
       "    .dataframe tbody tr th {\n",
       "        vertical-align: top;\n",
       "    }\n",
       "\n",
       "    .dataframe thead th {\n",
       "        text-align: right;\n",
       "    }\n",
       "</style>\n",
       "<table border=\"1\" class=\"dataframe\">\n",
       "  <thead>\n",
       "    <tr style=\"text-align: right;\">\n",
       "      <th></th>\n",
       "      <th>#</th>\n",
       "      <th>Date-Time (CDT)</th>\n",
       "      <th>Temperature   (°F)</th>\n",
       "      <th>RH   (%)</th>\n",
       "      <th>Dew Point   (°F)</th>\n",
       "      <th>Host Connected</th>\n",
       "      <th>Stopped</th>\n",
       "      <th>End of File</th>\n",
       "    </tr>\n",
       "  </thead>\n",
       "  <tbody>\n",
       "    <tr>\n",
       "      <th>0</th>\n",
       "      <td>1</td>\n",
       "      <td>04/27/2023 07:57:43</td>\n",
       "      <td>71.58</td>\n",
       "      <td>28.77</td>\n",
       "      <td>37.48</td>\n",
       "      <td>NaN</td>\n",
       "      <td>NaN</td>\n",
       "      <td>NaN</td>\n",
       "    </tr>\n",
       "    <tr>\n",
       "      <th>1</th>\n",
       "      <td>2</td>\n",
       "      <td>04/27/2023 07:58:43</td>\n",
       "      <td>71.62</td>\n",
       "      <td>29.53</td>\n",
       "      <td>38.18</td>\n",
       "      <td>NaN</td>\n",
       "      <td>NaN</td>\n",
       "      <td>NaN</td>\n",
       "    </tr>\n",
       "    <tr>\n",
       "      <th>2</th>\n",
       "      <td>3</td>\n",
       "      <td>04/27/2023 07:59:43</td>\n",
       "      <td>71.65</td>\n",
       "      <td>29.20</td>\n",
       "      <td>37.92</td>\n",
       "      <td>NaN</td>\n",
       "      <td>NaN</td>\n",
       "      <td>NaN</td>\n",
       "    </tr>\n",
       "    <tr>\n",
       "      <th>3</th>\n",
       "      <td>4</td>\n",
       "      <td>04/27/2023 08:00:43</td>\n",
       "      <td>71.71</td>\n",
       "      <td>28.67</td>\n",
       "      <td>37.50</td>\n",
       "      <td>NaN</td>\n",
       "      <td>NaN</td>\n",
       "      <td>NaN</td>\n",
       "    </tr>\n",
       "    <tr>\n",
       "      <th>4</th>\n",
       "      <td>5</td>\n",
       "      <td>04/27/2023 08:01:43</td>\n",
       "      <td>71.74</td>\n",
       "      <td>28.55</td>\n",
       "      <td>37.43</td>\n",
       "      <td>NaN</td>\n",
       "      <td>NaN</td>\n",
       "      <td>NaN</td>\n",
       "    </tr>\n",
       "  </tbody>\n",
       "</table>\n",
       "</div>"
      ],
      "text/plain": [
       "   #      Date-Time (CDT)  Temperature   (°F)  RH   (%)  Dew Point   (°F)  \\\n",
       "0  1  04/27/2023 07:57:43               71.58     28.77             37.48   \n",
       "1  2  04/27/2023 07:58:43               71.62     29.53             38.18   \n",
       "2  3  04/27/2023 07:59:43               71.65     29.20             37.92   \n",
       "3  4  04/27/2023 08:00:43               71.71     28.67             37.50   \n",
       "4  5  04/27/2023 08:01:43               71.74     28.55             37.43   \n",
       "\n",
       "  Host Connected Stopped End of File  \n",
       "0            NaN     NaN         NaN  \n",
       "1            NaN     NaN         NaN  \n",
       "2            NaN     NaN         NaN  \n",
       "3            NaN     NaN         NaN  \n",
       "4            NaN     NaN         NaN  "
      ]
     },
     "execution_count": 39,
     "metadata": {},
     "output_type": "execute_result"
    }
   ],
   "source": [
    "w2.head()"
   ]
  },
  {
   "cell_type": "code",
   "execution_count": 40,
   "metadata": {},
   "outputs": [
    {
     "data": {
      "text/html": [
       "<div>\n",
       "<style scoped>\n",
       "    .dataframe tbody tr th:only-of-type {\n",
       "        vertical-align: middle;\n",
       "    }\n",
       "\n",
       "    .dataframe tbody tr th {\n",
       "        vertical-align: top;\n",
       "    }\n",
       "\n",
       "    .dataframe thead th {\n",
       "        text-align: right;\n",
       "    }\n",
       "</style>\n",
       "<table border=\"1\" class=\"dataframe\">\n",
       "  <thead>\n",
       "    <tr style=\"text-align: right;\">\n",
       "      <th></th>\n",
       "      <th>#</th>\n",
       "      <th>Date-Time (CDT)</th>\n",
       "      <th>Temperature   (°F)</th>\n",
       "      <th>RH   (%)</th>\n",
       "      <th>Dew Point   (°F)</th>\n",
       "      <th>Host Connected</th>\n",
       "      <th>Stopped</th>\n",
       "      <th>End of File</th>\n",
       "    </tr>\n",
       "  </thead>\n",
       "  <tbody>\n",
       "    <tr>\n",
       "      <th>0</th>\n",
       "      <td>1</td>\n",
       "      <td>04/28/2023 13:01:44</td>\n",
       "      <td>72.52</td>\n",
       "      <td>41.06</td>\n",
       "      <td>47.55</td>\n",
       "      <td>NaN</td>\n",
       "      <td>NaN</td>\n",
       "      <td>NaN</td>\n",
       "    </tr>\n",
       "    <tr>\n",
       "      <th>1</th>\n",
       "      <td>2</td>\n",
       "      <td>04/28/2023 13:02:44</td>\n",
       "      <td>72.61</td>\n",
       "      <td>40.96</td>\n",
       "      <td>47.57</td>\n",
       "      <td>NaN</td>\n",
       "      <td>NaN</td>\n",
       "      <td>NaN</td>\n",
       "    </tr>\n",
       "    <tr>\n",
       "      <th>2</th>\n",
       "      <td>3</td>\n",
       "      <td>04/28/2023 13:03:44</td>\n",
       "      <td>72.64</td>\n",
       "      <td>41.17</td>\n",
       "      <td>47.74</td>\n",
       "      <td>NaN</td>\n",
       "      <td>NaN</td>\n",
       "      <td>NaN</td>\n",
       "    </tr>\n",
       "    <tr>\n",
       "      <th>3</th>\n",
       "      <td>4</td>\n",
       "      <td>04/28/2023 13:04:44</td>\n",
       "      <td>72.73</td>\n",
       "      <td>40.73</td>\n",
       "      <td>47.53</td>\n",
       "      <td>NaN</td>\n",
       "      <td>NaN</td>\n",
       "      <td>NaN</td>\n",
       "    </tr>\n",
       "    <tr>\n",
       "      <th>4</th>\n",
       "      <td>5</td>\n",
       "      <td>04/28/2023 13:05:44</td>\n",
       "      <td>72.79</td>\n",
       "      <td>40.53</td>\n",
       "      <td>47.45</td>\n",
       "      <td>NaN</td>\n",
       "      <td>NaN</td>\n",
       "      <td>NaN</td>\n",
       "    </tr>\n",
       "  </tbody>\n",
       "</table>\n",
       "</div>"
      ],
      "text/plain": [
       "   #      Date-Time (CDT)  Temperature   (°F)  RH   (%)  Dew Point   (°F)  \\\n",
       "0  1  04/28/2023 13:01:44               72.52     41.06             47.55   \n",
       "1  2  04/28/2023 13:02:44               72.61     40.96             47.57   \n",
       "2  3  04/28/2023 13:03:44               72.64     41.17             47.74   \n",
       "3  4  04/28/2023 13:04:44               72.73     40.73             47.53   \n",
       "4  5  04/28/2023 13:05:44               72.79     40.53             47.45   \n",
       "\n",
       "  Host Connected Stopped End of File  \n",
       "0            NaN     NaN         NaN  \n",
       "1            NaN     NaN         NaN  \n",
       "2            NaN     NaN         NaN  \n",
       "3            NaN     NaN         NaN  \n",
       "4            NaN     NaN         NaN  "
      ]
     },
     "execution_count": 40,
     "metadata": {},
     "output_type": "execute_result"
    }
   ],
   "source": [
    "w3.head()"
   ]
  },
  {
   "cell_type": "code",
   "execution_count": 86,
   "metadata": {},
   "outputs": [
    {
     "data": {
      "text/html": [
       "<div>\n",
       "<style scoped>\n",
       "    .dataframe tbody tr th:only-of-type {\n",
       "        vertical-align: middle;\n",
       "    }\n",
       "\n",
       "    .dataframe tbody tr th {\n",
       "        vertical-align: top;\n",
       "    }\n",
       "\n",
       "    .dataframe thead th {\n",
       "        text-align: right;\n",
       "    }\n",
       "</style>\n",
       "<table border=\"1\" class=\"dataframe\">\n",
       "  <thead>\n",
       "    <tr style=\"text-align: right;\">\n",
       "      <th></th>\n",
       "      <th>#</th>\n",
       "      <th>Date-Time (CDT)</th>\n",
       "      <th>Temperature   (°F)</th>\n",
       "      <th>RH   (%)</th>\n",
       "      <th>Dew Point   (°F)</th>\n",
       "      <th>Host Connected</th>\n",
       "      <th>End of File</th>\n",
       "    </tr>\n",
       "  </thead>\n",
       "  <tbody>\n",
       "    <tr>\n",
       "      <th>0</th>\n",
       "      <td>1</td>\n",
       "      <td>05/03/2023 14:51:44</td>\n",
       "      <td>75.78</td>\n",
       "      <td>22.96</td>\n",
       "      <td>35.34</td>\n",
       "      <td>NaN</td>\n",
       "      <td>NaN</td>\n",
       "    </tr>\n",
       "    <tr>\n",
       "      <th>1</th>\n",
       "      <td>2</td>\n",
       "      <td>05/03/2023 14:56:44</td>\n",
       "      <td>74.03</td>\n",
       "      <td>24.02</td>\n",
       "      <td>35.01</td>\n",
       "      <td>NaN</td>\n",
       "      <td>NaN</td>\n",
       "    </tr>\n",
       "    <tr>\n",
       "      <th>2</th>\n",
       "      <td>3</td>\n",
       "      <td>05/03/2023 15:01:44</td>\n",
       "      <td>72.86</td>\n",
       "      <td>24.31</td>\n",
       "      <td>34.32</td>\n",
       "      <td>NaN</td>\n",
       "      <td>NaN</td>\n",
       "    </tr>\n",
       "    <tr>\n",
       "      <th>3</th>\n",
       "      <td>4</td>\n",
       "      <td>05/03/2023 15:06:44</td>\n",
       "      <td>72.23</td>\n",
       "      <td>24.91</td>\n",
       "      <td>34.40</td>\n",
       "      <td>NaN</td>\n",
       "      <td>NaN</td>\n",
       "    </tr>\n",
       "    <tr>\n",
       "      <th>4</th>\n",
       "      <td>5</td>\n",
       "      <td>05/03/2023 15:11:44</td>\n",
       "      <td>71.80</td>\n",
       "      <td>25.18</td>\n",
       "      <td>34.30</td>\n",
       "      <td>NaN</td>\n",
       "      <td>NaN</td>\n",
       "    </tr>\n",
       "  </tbody>\n",
       "</table>\n",
       "</div>"
      ],
      "text/plain": [
       "   #      Date-Time (CDT)  Temperature   (°F)  RH   (%)  Dew Point   (°F)  \\\n",
       "0  1  05/03/2023 14:51:44               75.78     22.96             35.34   \n",
       "1  2  05/03/2023 14:56:44               74.03     24.02             35.01   \n",
       "2  3  05/03/2023 15:01:44               72.86     24.31             34.32   \n",
       "3  4  05/03/2023 15:06:44               72.23     24.91             34.40   \n",
       "4  5  05/03/2023 15:11:44               71.80     25.18             34.30   \n",
       "\n",
       "  Host Connected End of File  \n",
       "0            NaN         NaN  \n",
       "1            NaN         NaN  \n",
       "2            NaN         NaN  \n",
       "3            NaN         NaN  \n",
       "4            NaN         NaN  "
      ]
     },
     "execution_count": 86,
     "metadata": {},
     "output_type": "execute_result"
    }
   ],
   "source": [
    "w4.head()\n"
   ]
  },
  {
   "cell_type": "code",
   "execution_count": 42,
   "metadata": {},
   "outputs": [
    {
     "data": {
      "text/plain": [
       "['#',\n",
       " 'Date-Time (CDT)',\n",
       " 'Temperature   (°F)',\n",
       " 'RH   (%)',\n",
       " 'Dew Point   (°F)',\n",
       " 'Host Connected',\n",
       " 'Stopped',\n",
       " 'End of File']"
      ]
     },
     "execution_count": 42,
     "metadata": {},
     "output_type": "execute_result"
    }
   ],
   "source": [
    "w2.columns.to_list()"
   ]
  },
  {
   "cell_type": "code",
   "execution_count": 43,
   "metadata": {},
   "outputs": [
    {
     "data": {
      "text/plain": [
       "(1469, 8)"
      ]
     },
     "execution_count": 43,
     "metadata": {},
     "output_type": "execute_result"
    }
   ],
   "source": [
    "w2.shape"
   ]
  },
  {
   "cell_type": "code",
   "execution_count": 48,
   "metadata": {},
   "outputs": [
    {
     "data": {
      "text/html": [
       "<div>\n",
       "<style scoped>\n",
       "    .dataframe tbody tr th:only-of-type {\n",
       "        vertical-align: middle;\n",
       "    }\n",
       "\n",
       "    .dataframe tbody tr th {\n",
       "        vertical-align: top;\n",
       "    }\n",
       "\n",
       "    .dataframe thead th {\n",
       "        text-align: right;\n",
       "    }\n",
       "</style>\n",
       "<table border=\"1\" class=\"dataframe\">\n",
       "  <thead>\n",
       "    <tr style=\"text-align: right;\">\n",
       "      <th></th>\n",
       "      <th>#</th>\n",
       "      <th>Date-Time (CDT)</th>\n",
       "      <th>Temperature   (°F)</th>\n",
       "      <th>RH   (%)</th>\n",
       "      <th>Dew Point   (°F)</th>\n",
       "      <th>Host Connected</th>\n",
       "      <th>End of File</th>\n",
       "    </tr>\n",
       "  </thead>\n",
       "  <tbody>\n",
       "    <tr>\n",
       "      <th>0</th>\n",
       "      <td>1</td>\n",
       "      <td>04/27/2023 07:57:43</td>\n",
       "      <td>71.58</td>\n",
       "      <td>28.77</td>\n",
       "      <td>37.48</td>\n",
       "      <td>NaN</td>\n",
       "      <td>NaN</td>\n",
       "    </tr>\n",
       "    <tr>\n",
       "      <th>1</th>\n",
       "      <td>2</td>\n",
       "      <td>04/27/2023 07:58:43</td>\n",
       "      <td>71.62</td>\n",
       "      <td>29.53</td>\n",
       "      <td>38.18</td>\n",
       "      <td>NaN</td>\n",
       "      <td>NaN</td>\n",
       "    </tr>\n",
       "    <tr>\n",
       "      <th>2</th>\n",
       "      <td>3</td>\n",
       "      <td>04/27/2023 07:59:43</td>\n",
       "      <td>71.65</td>\n",
       "      <td>29.20</td>\n",
       "      <td>37.92</td>\n",
       "      <td>NaN</td>\n",
       "      <td>NaN</td>\n",
       "    </tr>\n",
       "    <tr>\n",
       "      <th>3</th>\n",
       "      <td>4</td>\n",
       "      <td>04/27/2023 08:00:43</td>\n",
       "      <td>71.71</td>\n",
       "      <td>28.67</td>\n",
       "      <td>37.50</td>\n",
       "      <td>NaN</td>\n",
       "      <td>NaN</td>\n",
       "    </tr>\n",
       "    <tr>\n",
       "      <th>4</th>\n",
       "      <td>5</td>\n",
       "      <td>04/27/2023 08:01:43</td>\n",
       "      <td>71.74</td>\n",
       "      <td>28.55</td>\n",
       "      <td>37.43</td>\n",
       "      <td>NaN</td>\n",
       "      <td>NaN</td>\n",
       "    </tr>\n",
       "  </tbody>\n",
       "</table>\n",
       "</div>"
      ],
      "text/plain": [
       "   #      Date-Time (CDT)  Temperature   (°F)  RH   (%)  Dew Point   (°F)  \\\n",
       "0  1  04/27/2023 07:57:43               71.58     28.77             37.48   \n",
       "1  2  04/27/2023 07:58:43               71.62     29.53             38.18   \n",
       "2  3  04/27/2023 07:59:43               71.65     29.20             37.92   \n",
       "3  4  04/27/2023 08:00:43               71.71     28.67             37.50   \n",
       "4  5  04/27/2023 08:01:43               71.74     28.55             37.43   \n",
       "\n",
       "  Host Connected End of File  \n",
       "0            NaN         NaN  \n",
       "1            NaN         NaN  \n",
       "2            NaN         NaN  \n",
       "3            NaN         NaN  \n",
       "4            NaN         NaN  "
      ]
     },
     "execution_count": 48,
     "metadata": {},
     "output_type": "execute_result"
    }
   ],
   "source": [
    "w2 = w2.drop(columns='Stopped')\n",
    "w2.head()"
   ]
  },
  {
   "cell_type": "code",
   "execution_count": 44,
   "metadata": {},
   "outputs": [
    {
     "data": {
      "text/html": [
       "<div>\n",
       "<style scoped>\n",
       "    .dataframe tbody tr th:only-of-type {\n",
       "        vertical-align: middle;\n",
       "    }\n",
       "\n",
       "    .dataframe tbody tr th {\n",
       "        vertical-align: top;\n",
       "    }\n",
       "\n",
       "    .dataframe thead th {\n",
       "        text-align: right;\n",
       "    }\n",
       "</style>\n",
       "<table border=\"1\" class=\"dataframe\">\n",
       "  <thead>\n",
       "    <tr style=\"text-align: right;\">\n",
       "      <th></th>\n",
       "      <th>#</th>\n",
       "      <th>Date-Time (CDT)</th>\n",
       "      <th>Temperature   (°F)</th>\n",
       "      <th>RH   (%)</th>\n",
       "      <th>Dew Point   (°F)</th>\n",
       "      <th>Host Connected</th>\n",
       "      <th>End of File</th>\n",
       "    </tr>\n",
       "  </thead>\n",
       "  <tbody>\n",
       "    <tr>\n",
       "      <th>0</th>\n",
       "      <td>1</td>\n",
       "      <td>04/28/2023 13:01:44</td>\n",
       "      <td>72.52</td>\n",
       "      <td>41.06</td>\n",
       "      <td>47.55</td>\n",
       "      <td>NaN</td>\n",
       "      <td>NaN</td>\n",
       "    </tr>\n",
       "    <tr>\n",
       "      <th>1</th>\n",
       "      <td>2</td>\n",
       "      <td>04/28/2023 13:02:44</td>\n",
       "      <td>72.61</td>\n",
       "      <td>40.96</td>\n",
       "      <td>47.57</td>\n",
       "      <td>NaN</td>\n",
       "      <td>NaN</td>\n",
       "    </tr>\n",
       "    <tr>\n",
       "      <th>2</th>\n",
       "      <td>3</td>\n",
       "      <td>04/28/2023 13:03:44</td>\n",
       "      <td>72.64</td>\n",
       "      <td>41.17</td>\n",
       "      <td>47.74</td>\n",
       "      <td>NaN</td>\n",
       "      <td>NaN</td>\n",
       "    </tr>\n",
       "    <tr>\n",
       "      <th>3</th>\n",
       "      <td>4</td>\n",
       "      <td>04/28/2023 13:04:44</td>\n",
       "      <td>72.73</td>\n",
       "      <td>40.73</td>\n",
       "      <td>47.53</td>\n",
       "      <td>NaN</td>\n",
       "      <td>NaN</td>\n",
       "    </tr>\n",
       "    <tr>\n",
       "      <th>4</th>\n",
       "      <td>5</td>\n",
       "      <td>04/28/2023 13:05:44</td>\n",
       "      <td>72.79</td>\n",
       "      <td>40.53</td>\n",
       "      <td>47.45</td>\n",
       "      <td>NaN</td>\n",
       "      <td>NaN</td>\n",
       "    </tr>\n",
       "  </tbody>\n",
       "</table>\n",
       "</div>"
      ],
      "text/plain": [
       "   #      Date-Time (CDT)  Temperature   (°F)  RH   (%)  Dew Point   (°F)  \\\n",
       "0  1  04/28/2023 13:01:44               72.52     41.06             47.55   \n",
       "1  2  04/28/2023 13:02:44               72.61     40.96             47.57   \n",
       "2  3  04/28/2023 13:03:44               72.64     41.17             47.74   \n",
       "3  4  04/28/2023 13:04:44               72.73     40.73             47.53   \n",
       "4  5  04/28/2023 13:05:44               72.79     40.53             47.45   \n",
       "\n",
       "  Host Connected End of File  \n",
       "0            NaN         NaN  \n",
       "1            NaN         NaN  \n",
       "2            NaN         NaN  \n",
       "3            NaN         NaN  \n",
       "4            NaN         NaN  "
      ]
     },
     "execution_count": 44,
     "metadata": {},
     "output_type": "execute_result"
    }
   ],
   "source": [
    "w3 = w3.drop(columns='Stopped')\n",
    "w3.head()"
   ]
  },
  {
   "cell_type": "code",
   "execution_count": 46,
   "metadata": {},
   "outputs": [
    {
     "data": {
      "text/html": [
       "<div>\n",
       "<style scoped>\n",
       "    .dataframe tbody tr th:only-of-type {\n",
       "        vertical-align: middle;\n",
       "    }\n",
       "\n",
       "    .dataframe tbody tr th {\n",
       "        vertical-align: top;\n",
       "    }\n",
       "\n",
       "    .dataframe thead th {\n",
       "        text-align: right;\n",
       "    }\n",
       "</style>\n",
       "<table border=\"1\" class=\"dataframe\">\n",
       "  <thead>\n",
       "    <tr style=\"text-align: right;\">\n",
       "      <th></th>\n",
       "      <th>#</th>\n",
       "      <th>Date-Time (CDT)</th>\n",
       "      <th>Temperature   (°F)</th>\n",
       "      <th>RH   (%)</th>\n",
       "      <th>Dew Point   (°F)</th>\n",
       "      <th>Host Connected</th>\n",
       "      <th>End of File</th>\n",
       "    </tr>\n",
       "  </thead>\n",
       "  <tbody>\n",
       "    <tr>\n",
       "      <th>0</th>\n",
       "      <td>1</td>\n",
       "      <td>05/03/2023 14:51:44</td>\n",
       "      <td>75.78</td>\n",
       "      <td>22.96</td>\n",
       "      <td>35.34</td>\n",
       "      <td>NaN</td>\n",
       "      <td>NaN</td>\n",
       "    </tr>\n",
       "    <tr>\n",
       "      <th>1</th>\n",
       "      <td>2</td>\n",
       "      <td>05/03/2023 14:56:44</td>\n",
       "      <td>74.03</td>\n",
       "      <td>24.02</td>\n",
       "      <td>35.01</td>\n",
       "      <td>NaN</td>\n",
       "      <td>NaN</td>\n",
       "    </tr>\n",
       "    <tr>\n",
       "      <th>2</th>\n",
       "      <td>3</td>\n",
       "      <td>05/03/2023 15:01:44</td>\n",
       "      <td>72.86</td>\n",
       "      <td>24.31</td>\n",
       "      <td>34.32</td>\n",
       "      <td>NaN</td>\n",
       "      <td>NaN</td>\n",
       "    </tr>\n",
       "    <tr>\n",
       "      <th>3</th>\n",
       "      <td>4</td>\n",
       "      <td>05/03/2023 15:06:44</td>\n",
       "      <td>72.23</td>\n",
       "      <td>24.91</td>\n",
       "      <td>34.40</td>\n",
       "      <td>NaN</td>\n",
       "      <td>NaN</td>\n",
       "    </tr>\n",
       "    <tr>\n",
       "      <th>4</th>\n",
       "      <td>5</td>\n",
       "      <td>05/03/2023 15:11:44</td>\n",
       "      <td>71.80</td>\n",
       "      <td>25.18</td>\n",
       "      <td>34.30</td>\n",
       "      <td>NaN</td>\n",
       "      <td>NaN</td>\n",
       "    </tr>\n",
       "  </tbody>\n",
       "</table>\n",
       "</div>"
      ],
      "text/plain": [
       "   #      Date-Time (CDT)  Temperature   (°F)  RH   (%)  Dew Point   (°F)  \\\n",
       "0  1  05/03/2023 14:51:44               75.78     22.96             35.34   \n",
       "1  2  05/03/2023 14:56:44               74.03     24.02             35.01   \n",
       "2  3  05/03/2023 15:01:44               72.86     24.31             34.32   \n",
       "3  4  05/03/2023 15:06:44               72.23     24.91             34.40   \n",
       "4  5  05/03/2023 15:11:44               71.80     25.18             34.30   \n",
       "\n",
       "  Host Connected End of File  \n",
       "0            NaN         NaN  \n",
       "1            NaN         NaN  \n",
       "2            NaN         NaN  \n",
       "3            NaN         NaN  \n",
       "4            NaN         NaN  "
      ]
     },
     "execution_count": 46,
     "metadata": {},
     "output_type": "execute_result"
    }
   ],
   "source": [
    "w7 = w7.drop(columns='Stopped')\n",
    "w7.head()"
   ]
  },
  {
   "cell_type": "code",
   "execution_count": null,
   "metadata": {},
   "outputs": [
    {
     "data": {
      "text/html": [
       "<div>\n",
       "<style scoped>\n",
       "    .dataframe tbody tr th:only-of-type {\n",
       "        vertical-align: middle;\n",
       "    }\n",
       "\n",
       "    .dataframe tbody tr th {\n",
       "        vertical-align: top;\n",
       "    }\n",
       "\n",
       "    .dataframe thead th {\n",
       "        text-align: right;\n",
       "    }\n",
       "</style>\n",
       "<table border=\"1\" class=\"dataframe\">\n",
       "  <thead>\n",
       "    <tr style=\"text-align: right;\">\n",
       "      <th></th>\n",
       "      <th>#</th>\n",
       "      <th>Date-Time (CDT)</th>\n",
       "      <th>Temperature   (°F)</th>\n",
       "      <th>RH   (%)</th>\n",
       "      <th>Dew Point   (°F)</th>\n",
       "      <th>Host Connected</th>\n",
       "      <th>End of File</th>\n",
       "      <th>Date-Time (CST/CDT)</th>\n",
       "    </tr>\n",
       "  </thead>\n",
       "  <tbody>\n",
       "    <tr>\n",
       "      <th>0</th>\n",
       "      <td>1</td>\n",
       "      <td>04/27/2023 07:57:43</td>\n",
       "      <td>71.58</td>\n",
       "      <td>28.77</td>\n",
       "      <td>37.48</td>\n",
       "      <td>NaN</td>\n",
       "      <td>NaN</td>\n",
       "      <td>NaN</td>\n",
       "    </tr>\n",
       "    <tr>\n",
       "      <th>1</th>\n",
       "      <td>2</td>\n",
       "      <td>04/27/2023 07:58:43</td>\n",
       "      <td>71.62</td>\n",
       "      <td>29.53</td>\n",
       "      <td>38.18</td>\n",
       "      <td>NaN</td>\n",
       "      <td>NaN</td>\n",
       "      <td>NaN</td>\n",
       "    </tr>\n",
       "    <tr>\n",
       "      <th>2</th>\n",
       "      <td>3</td>\n",
       "      <td>04/27/2023 07:59:43</td>\n",
       "      <td>71.65</td>\n",
       "      <td>29.20</td>\n",
       "      <td>37.92</td>\n",
       "      <td>NaN</td>\n",
       "      <td>NaN</td>\n",
       "      <td>NaN</td>\n",
       "    </tr>\n",
       "    <tr>\n",
       "      <th>3</th>\n",
       "      <td>4</td>\n",
       "      <td>04/27/2023 08:00:43</td>\n",
       "      <td>71.71</td>\n",
       "      <td>28.67</td>\n",
       "      <td>37.50</td>\n",
       "      <td>NaN</td>\n",
       "      <td>NaN</td>\n",
       "      <td>NaN</td>\n",
       "    </tr>\n",
       "    <tr>\n",
       "      <th>4</th>\n",
       "      <td>5</td>\n",
       "      <td>04/27/2023 08:01:43</td>\n",
       "      <td>71.74</td>\n",
       "      <td>28.55</td>\n",
       "      <td>37.43</td>\n",
       "      <td>NaN</td>\n",
       "      <td>NaN</td>\n",
       "      <td>NaN</td>\n",
       "    </tr>\n",
       "  </tbody>\n",
       "</table>\n",
       "</div>"
      ],
      "text/plain": [
       "   #      Date-Time (CDT)  Temperature   (°F)  RH   (%)  Dew Point   (°F)  \\\n",
       "0  1  04/27/2023 07:57:43               71.58     28.77             37.48   \n",
       "1  2  04/27/2023 07:58:43               71.62     29.53             38.18   \n",
       "2  3  04/27/2023 07:59:43               71.65     29.20             37.92   \n",
       "3  4  04/27/2023 08:00:43               71.71     28.67             37.50   \n",
       "4  5  04/27/2023 08:01:43               71.74     28.55             37.43   \n",
       "\n",
       "  Host Connected End of File Date-Time (CST/CDT)  \n",
       "0            NaN         NaN                 NaN  \n",
       "1            NaN         NaN                 NaN  \n",
       "2            NaN         NaN                 NaN  \n",
       "3            NaN         NaN                 NaN  \n",
       "4            NaN         NaN                 NaN  "
      ]
     },
     "execution_count": 87,
     "metadata": {},
     "output_type": "execute_result"
    }
   ],
   "source": [
    "#  Concatenante the data\n",
    "df_concat = pd.concat([w2,w3,w4,w5,w6,w7])\n",
    "df_concat.head()"
   ]
  },
  {
   "cell_type": "code",
   "execution_count": 106,
   "metadata": {},
   "outputs": [
    {
     "data": {
      "text/html": [
       "<div>\n",
       "<style scoped>\n",
       "    .dataframe tbody tr th:only-of-type {\n",
       "        vertical-align: middle;\n",
       "    }\n",
       "\n",
       "    .dataframe tbody tr th {\n",
       "        vertical-align: top;\n",
       "    }\n",
       "\n",
       "    .dataframe thead th {\n",
       "        text-align: right;\n",
       "    }\n",
       "</style>\n",
       "<table border=\"1\" class=\"dataframe\">\n",
       "  <thead>\n",
       "    <tr style=\"text-align: right;\">\n",
       "      <th></th>\n",
       "      <th>#</th>\n",
       "      <th>Date-Time (CDT)</th>\n",
       "      <th>Temperature   (°F)</th>\n",
       "      <th>RH   (%)</th>\n",
       "      <th>Dew Point   (°F)</th>\n",
       "      <th>Host Connected</th>\n",
       "      <th>End of File</th>\n",
       "    </tr>\n",
       "  </thead>\n",
       "  <tbody>\n",
       "    <tr>\n",
       "      <th>0</th>\n",
       "      <td>1</td>\n",
       "      <td>11/10/2023 09:52:55</td>\n",
       "      <td>75.85</td>\n",
       "      <td>37.73</td>\n",
       "      <td>48.27</td>\n",
       "      <td>NaN</td>\n",
       "      <td>NaN</td>\n",
       "    </tr>\n",
       "    <tr>\n",
       "      <th>1</th>\n",
       "      <td>2</td>\n",
       "      <td>11/10/2023 10:02:55</td>\n",
       "      <td>71.31</td>\n",
       "      <td>33.61</td>\n",
       "      <td>41.23</td>\n",
       "      <td>NaN</td>\n",
       "      <td>NaN</td>\n",
       "    </tr>\n",
       "    <tr>\n",
       "      <th>2</th>\n",
       "      <td>3</td>\n",
       "      <td>11/10/2023 10:12:55</td>\n",
       "      <td>69.82</td>\n",
       "      <td>34.66</td>\n",
       "      <td>40.71</td>\n",
       "      <td>NaN</td>\n",
       "      <td>NaN</td>\n",
       "    </tr>\n",
       "    <tr>\n",
       "      <th>3</th>\n",
       "      <td>4</td>\n",
       "      <td>11/10/2023 10:22:55</td>\n",
       "      <td>69.35</td>\n",
       "      <td>36.37</td>\n",
       "      <td>41.55</td>\n",
       "      <td>NaN</td>\n",
       "      <td>NaN</td>\n",
       "    </tr>\n",
       "    <tr>\n",
       "      <th>4</th>\n",
       "      <td>5</td>\n",
       "      <td>11/10/2023 10:32:55</td>\n",
       "      <td>69.48</td>\n",
       "      <td>37.09</td>\n",
       "      <td>42.17</td>\n",
       "      <td>NaN</td>\n",
       "      <td>NaN</td>\n",
       "    </tr>\n",
       "  </tbody>\n",
       "</table>\n",
       "</div>"
      ],
      "text/plain": [
       "   #      Date-Time (CDT)  Temperature   (°F)  RH   (%)  Dew Point   (°F)  \\\n",
       "0  1  11/10/2023 09:52:55               75.85     37.73             48.27   \n",
       "1  2  11/10/2023 10:02:55               71.31     33.61             41.23   \n",
       "2  3  11/10/2023 10:12:55               69.82     34.66             40.71   \n",
       "3  4  11/10/2023 10:22:55               69.35     36.37             41.55   \n",
       "4  5  11/10/2023 10:32:55               69.48     37.09             42.17   \n",
       "\n",
       "  Host Connected End of File  \n",
       "0            NaN         NaN  \n",
       "1            NaN         NaN  \n",
       "2            NaN         NaN  \n",
       "3            NaN         NaN  \n",
       "4            NaN         NaN  "
      ]
     },
     "execution_count": 106,
     "metadata": {},
     "output_type": "execute_result"
    }
   ],
   "source": [
    "w5.head()\n",
    "w5.columns.to_list()\n",
    "w5 = w5.rename(columns={ 'Date-Time (CST/CDT)':'Date-Time (CDT)'})\n",
    "w6 = w6.rename(columns={ 'Date-Time (CST/CDT)':'Date-Time (CDT)'})\n",
    "w5.head()"
   ]
  },
  {
   "cell_type": "code",
   "execution_count": 109,
   "metadata": {},
   "outputs": [
    {
     "data": {
      "text/html": [
       "<div>\n",
       "<style scoped>\n",
       "    .dataframe tbody tr th:only-of-type {\n",
       "        vertical-align: middle;\n",
       "    }\n",
       "\n",
       "    .dataframe tbody tr th {\n",
       "        vertical-align: top;\n",
       "    }\n",
       "\n",
       "    .dataframe thead th {\n",
       "        text-align: right;\n",
       "    }\n",
       "</style>\n",
       "<table border=\"1\" class=\"dataframe\">\n",
       "  <thead>\n",
       "    <tr style=\"text-align: right;\">\n",
       "      <th></th>\n",
       "      <th>#</th>\n",
       "      <th>Date-Time (CDT)</th>\n",
       "      <th>Temperature   (°F)</th>\n",
       "      <th>RH   (%)</th>\n",
       "      <th>Dew Point   (°F)</th>\n",
       "      <th>Host Connected</th>\n",
       "      <th>End of File</th>\n",
       "    </tr>\n",
       "  </thead>\n",
       "  <tbody>\n",
       "    <tr>\n",
       "      <th>0</th>\n",
       "      <td>1</td>\n",
       "      <td>04/27/2023 07:57:43</td>\n",
       "      <td>71.58</td>\n",
       "      <td>28.77</td>\n",
       "      <td>37.48</td>\n",
       "      <td>NaN</td>\n",
       "      <td>NaN</td>\n",
       "    </tr>\n",
       "    <tr>\n",
       "      <th>1</th>\n",
       "      <td>2</td>\n",
       "      <td>04/27/2023 07:58:43</td>\n",
       "      <td>71.62</td>\n",
       "      <td>29.53</td>\n",
       "      <td>38.18</td>\n",
       "      <td>NaN</td>\n",
       "      <td>NaN</td>\n",
       "    </tr>\n",
       "    <tr>\n",
       "      <th>2</th>\n",
       "      <td>3</td>\n",
       "      <td>04/27/2023 07:59:43</td>\n",
       "      <td>71.65</td>\n",
       "      <td>29.20</td>\n",
       "      <td>37.92</td>\n",
       "      <td>NaN</td>\n",
       "      <td>NaN</td>\n",
       "    </tr>\n",
       "    <tr>\n",
       "      <th>3</th>\n",
       "      <td>4</td>\n",
       "      <td>04/27/2023 08:00:43</td>\n",
       "      <td>71.71</td>\n",
       "      <td>28.67</td>\n",
       "      <td>37.50</td>\n",
       "      <td>NaN</td>\n",
       "      <td>NaN</td>\n",
       "    </tr>\n",
       "    <tr>\n",
       "      <th>4</th>\n",
       "      <td>5</td>\n",
       "      <td>04/27/2023 08:01:43</td>\n",
       "      <td>71.74</td>\n",
       "      <td>28.55</td>\n",
       "      <td>37.43</td>\n",
       "      <td>NaN</td>\n",
       "      <td>NaN</td>\n",
       "    </tr>\n",
       "  </tbody>\n",
       "</table>\n",
       "</div>"
      ],
      "text/plain": [
       "   #      Date-Time (CDT)  Temperature   (°F)  RH   (%)  Dew Point   (°F)  \\\n",
       "0  1  04/27/2023 07:57:43               71.58     28.77             37.48   \n",
       "1  2  04/27/2023 07:58:43               71.62     29.53             38.18   \n",
       "2  3  04/27/2023 07:59:43               71.65     29.20             37.92   \n",
       "3  4  04/27/2023 08:00:43               71.71     28.67             37.50   \n",
       "4  5  04/27/2023 08:01:43               71.74     28.55             37.43   \n",
       "\n",
       "  Host Connected End of File  \n",
       "0            NaN         NaN  \n",
       "1            NaN         NaN  \n",
       "2            NaN         NaN  \n",
       "3            NaN         NaN  \n",
       "4            NaN         NaN  "
      ]
     },
     "execution_count": 109,
     "metadata": {},
     "output_type": "execute_result"
    }
   ],
   "source": [
    "wx = pd.concat([w2,w3,w4,w5,w6,w7], axis=0)\n",
    "wx.head()\n",
    "#wx.columns.to_list()"
   ]
  },
  {
   "cell_type": "code",
   "execution_count": null,
   "metadata": {},
   "outputs": [],
   "source": []
  },
  {
   "cell_type": "code",
   "execution_count": 50,
   "metadata": {},
   "outputs": [
    {
     "data": {
      "text/plain": [
       "(141089, 8)"
      ]
     },
     "execution_count": 50,
     "metadata": {},
     "output_type": "execute_result"
    }
   ],
   "source": [
    "df_concat.shape"
   ]
  },
  {
   "cell_type": "code",
   "execution_count": 110,
   "metadata": {},
   "outputs": [
    {
     "data": {
      "text/html": [
       "<div>\n",
       "<style scoped>\n",
       "    .dataframe tbody tr th:only-of-type {\n",
       "        vertical-align: middle;\n",
       "    }\n",
       "\n",
       "    .dataframe tbody tr th {\n",
       "        vertical-align: top;\n",
       "    }\n",
       "\n",
       "    .dataframe thead th {\n",
       "        text-align: right;\n",
       "    }\n",
       "</style>\n",
       "<table border=\"1\" class=\"dataframe\">\n",
       "  <thead>\n",
       "    <tr style=\"text-align: right;\">\n",
       "      <th></th>\n",
       "      <th>Date-Time (CDT)</th>\n",
       "      <th>Temperature   (°F)</th>\n",
       "      <th>RH   (%)</th>\n",
       "      <th>Dew Point   (°F)</th>\n",
       "    </tr>\n",
       "  </thead>\n",
       "  <tbody>\n",
       "    <tr>\n",
       "      <th>0</th>\n",
       "      <td>04/27/2023 07:57:43</td>\n",
       "      <td>71.58</td>\n",
       "      <td>28.77</td>\n",
       "      <td>37.48</td>\n",
       "    </tr>\n",
       "    <tr>\n",
       "      <th>1</th>\n",
       "      <td>04/27/2023 07:58:43</td>\n",
       "      <td>71.62</td>\n",
       "      <td>29.53</td>\n",
       "      <td>38.18</td>\n",
       "    </tr>\n",
       "    <tr>\n",
       "      <th>2</th>\n",
       "      <td>04/27/2023 07:59:43</td>\n",
       "      <td>71.65</td>\n",
       "      <td>29.20</td>\n",
       "      <td>37.92</td>\n",
       "    </tr>\n",
       "    <tr>\n",
       "      <th>3</th>\n",
       "      <td>04/27/2023 08:00:43</td>\n",
       "      <td>71.71</td>\n",
       "      <td>28.67</td>\n",
       "      <td>37.50</td>\n",
       "    </tr>\n",
       "    <tr>\n",
       "      <th>4</th>\n",
       "      <td>04/27/2023 08:01:43</td>\n",
       "      <td>71.74</td>\n",
       "      <td>28.55</td>\n",
       "      <td>37.43</td>\n",
       "    </tr>\n",
       "  </tbody>\n",
       "</table>\n",
       "</div>"
      ],
      "text/plain": [
       "       Date-Time (CDT)  Temperature   (°F)  RH   (%)  Dew Point   (°F)\n",
       "0  04/27/2023 07:57:43               71.58     28.77             37.48\n",
       "1  04/27/2023 07:58:43               71.62     29.53             38.18\n",
       "2  04/27/2023 07:59:43               71.65     29.20             37.92\n",
       "3  04/27/2023 08:00:43               71.71     28.67             37.50\n",
       "4  04/27/2023 08:01:43               71.74     28.55             37.43"
      ]
     },
     "execution_count": 110,
     "metadata": {},
     "output_type": "execute_result"
    }
   ],
   "source": [
    "df_drop = wx.iloc[:,[1,2,3,4]]\n",
    "df_drop.head()"
   ]
  },
  {
   "cell_type": "code",
   "execution_count": 111,
   "metadata": {},
   "outputs": [
    {
     "data": {
      "text/plain": [
       "['Date-Time (CDT)', 'Temperature   (°F)', 'RH   (%)', 'Dew Point   (°F)']"
      ]
     },
     "execution_count": 111,
     "metadata": {},
     "output_type": "execute_result"
    }
   ],
   "source": [
    "df_drop.columns.to_list()"
   ]
  },
  {
   "cell_type": "code",
   "execution_count": 112,
   "metadata": {},
   "outputs": [
    {
     "data": {
      "text/plain": [
       "date                 datetime64[ns]\n",
       "temperature                 float64\n",
       "relative_humidity           float64\n",
       "dew_point                   float64\n",
       "dtype: object"
      ]
     },
     "execution_count": 112,
     "metadata": {},
     "output_type": "execute_result"
    }
   ],
   "source": [
    "#change column headings\n",
    "df_drop = df_drop.rename(columns={'Date-Time (CDT)':'date',\n",
    "                                  'Temperature   (°F)':'temperature',\n",
    "                                  'RH   (%)':'relative_humidity',\n",
    "                                  'Dew Point   (°F)':'dew_point'\n",
    "    \n",
    "    \n",
    "})\n",
    "\n",
    "df_drop['date'] = pd.to_datetime(df_drop['date'])\n",
    "df_drop.dtypes"
   ]
  },
  {
   "cell_type": "code",
   "execution_count": 113,
   "metadata": {},
   "outputs": [
    {
     "name": "stdout",
     "output_type": "stream",
     "text": [
      "<class 'pandas.core.frame.DataFrame'>\n",
      "Index: 141089 entries, 0 to 39062\n",
      "Data columns (total 9 columns):\n",
      " #   Column             Non-Null Count   Dtype         \n",
      "---  ------             --------------   -----         \n",
      " 0   date               141089 non-null  datetime64[ns]\n",
      " 1   temperature        141072 non-null  float64       \n",
      " 2   relative_humidity  141072 non-null  float64       \n",
      " 3   dew_point          141072 non-null  float64       \n",
      " 4   month              141089 non-null  int32         \n",
      " 5   month_name         141089 non-null  object        \n",
      " 6   time               141089 non-null  object        \n",
      " 7   time_day           141089 non-null  object        \n",
      " 8   year               141089 non-null  int32         \n",
      "dtypes: datetime64[ns](1), float64(3), int32(2), object(3)\n",
      "memory usage: 9.7+ MB\n"
     ]
    }
   ],
   "source": [
    "df_drop['month'] = df_drop['date'].dt.month\n",
    "df_drop['month_name'] = df_drop['date'].dt.strftime('%B')\n",
    "df_drop['time'] = df_drop['date'].dt.strftime('%H:%M:%S')\n",
    "df_drop['time_day'] = df_drop['date'].dt.strftime('%p')\n",
    "df_drop['year'] = df_drop['date'].dt.year\n",
    "\n",
    "# print head of new data\n",
    "df_drop.head()\n",
    "df_drop.info()"
   ]
  },
  {
   "cell_type": "code",
   "execution_count": 114,
   "metadata": {},
   "outputs": [
    {
     "name": "stdout",
     "output_type": "stream",
     "text": [
      "<class 'pandas.core.frame.DataFrame'>\n",
      "Index: 141089 entries, 0 to 39062\n",
      "Data columns (total 9 columns):\n",
      " #   Column             Non-Null Count   Dtype         \n",
      "---  ------             --------------   -----         \n",
      " 0   date               141089 non-null  datetime64[ns]\n",
      " 1   temperature        141072 non-null  float64       \n",
      " 2   relative_humidity  141072 non-null  float64       \n",
      " 3   dew_point          141072 non-null  float64       \n",
      " 4   month              141089 non-null  int32         \n",
      " 5   month_name         141089 non-null  category      \n",
      " 6   time               141089 non-null  object        \n",
      " 7   time_day           141089 non-null  object        \n",
      " 8   year               141089 non-null  int32         \n",
      "dtypes: category(1), datetime64[ns](1), float64(3), int32(2), object(2)\n",
      "memory usage: 8.7+ MB\n"
     ]
    }
   ],
   "source": [
    "df_drop['month_name'] = pd.Categorical(df_drop['month_name'])\n",
    "df_drop.info()"
   ]
  },
  {
   "cell_type": "code",
   "execution_count": 115,
   "metadata": {},
   "outputs": [
    {
     "name": "stdout",
     "output_type": "stream",
     "text": [
      "<class 'pandas.core.frame.DataFrame'>\n",
      "Index: 141089 entries, 0 to 39062\n",
      "Data columns (total 8 columns):\n",
      " #   Column             Non-Null Count   Dtype   \n",
      "---  ------             --------------   -----   \n",
      " 0   temperature        141072 non-null  float64 \n",
      " 1   relative_humidity  141072 non-null  float64 \n",
      " 2   dew_point          141072 non-null  float64 \n",
      " 3   month              141089 non-null  int32   \n",
      " 4   month_name         141089 non-null  category\n",
      " 5   time               141089 non-null  object  \n",
      " 6   time_day           141089 non-null  object  \n",
      " 7   year               141089 non-null  int32   \n",
      "dtypes: category(1), float64(3), int32(2), object(2)\n",
      "memory usage: 7.7+ MB\n"
     ]
    }
   ],
   "source": [
    "df_drop_new = df_drop.drop(columns=['date'])\n",
    "df_drop_new.info()"
   ]
  },
  {
   "cell_type": "code",
   "execution_count": 116,
   "metadata": {},
   "outputs": [
    {
     "data": {
      "text/plain": [
       "temperature          17\n",
       "relative_humidity    17\n",
       "dew_point            17\n",
       "month                 0\n",
       "month_name            0\n",
       "time                  0\n",
       "time_day              0\n",
       "year                  0\n",
       "dtype: int64"
      ]
     },
     "execution_count": 116,
     "metadata": {},
     "output_type": "execute_result"
    }
   ],
   "source": [
    "df_drop_new.isna().sum()"
   ]
  },
  {
   "cell_type": "code",
   "execution_count": 117,
   "metadata": {},
   "outputs": [
    {
     "name": "stdout",
     "output_type": "stream",
     "text": [
      "<class 'pandas.core.frame.DataFrame'>\n",
      "Index: 141089 entries, 0 to 39062\n",
      "Data columns (total 8 columns):\n",
      " #   Column             Non-Null Count   Dtype   \n",
      "---  ------             --------------   -----   \n",
      " 0   temperature        141072 non-null  float64 \n",
      " 1   relative_humidity  141072 non-null  float64 \n",
      " 2   dew_point          141072 non-null  float64 \n",
      " 3   month              141089 non-null  int32   \n",
      " 4   month_name         141089 non-null  category\n",
      " 5   time               141089 non-null  object  \n",
      " 6   time_day           141089 non-null  object  \n",
      " 7   year               141089 non-null  int32   \n",
      "dtypes: category(1), float64(3), int32(2), object(2)\n",
      "memory usage: 7.7+ MB\n"
     ]
    }
   ],
   "source": [
    "df_drop_new.info()"
   ]
  },
  {
   "cell_type": "code",
   "execution_count": 118,
   "metadata": {},
   "outputs": [
    {
     "data": {
      "text/plain": [
       "['April', 'May', 'June', 'July', 'August', ..., 'November', 'December', 'January', 'February', 'March']\n",
       "Length: 11\n",
       "Categories (11, object): ['April', 'August', 'December', 'February', ..., 'March', 'May', 'November', 'September']"
      ]
     },
     "execution_count": 118,
     "metadata": {},
     "output_type": "execute_result"
    }
   ],
   "source": [
    "df_drop_new['month_name'].unique()"
   ]
  },
  {
   "cell_type": "code",
   "execution_count": 119,
   "metadata": {},
   "outputs": [
    {
     "data": {
      "text/plain": [
       "array([2023, 2024], dtype=int32)"
      ]
     },
     "execution_count": 119,
     "metadata": {},
     "output_type": "execute_result"
    }
   ],
   "source": [
    "df_drop_new['year'].unique()"
   ]
  },
  {
   "cell_type": "code",
   "execution_count": 124,
   "metadata": {},
   "outputs": [
    {
     "data": {
      "text/plain": [
       "temperature          0\n",
       "relative_humidity    0\n",
       "dew_point            0\n",
       "month                0\n",
       "month_name           0\n",
       "time                 0\n",
       "time_day             0\n",
       "year                 0\n",
       "dtype: int64"
      ]
     },
     "execution_count": 124,
     "metadata": {},
     "output_type": "execute_result"
    }
   ],
   "source": [
    "# remove na from data\n",
    "df_drop_new.isna().sum()\n",
    "\n",
    "# dropna from data\n",
    "df_nadrop = df_drop_new.dropna(subset=['temperature'])\n",
    "\n",
    "# print new shape\n",
    "df_nadrop.isna().sum()"
   ]
  },
  {
   "cell_type": "code",
   "execution_count": 160,
   "metadata": {},
   "outputs": [
    {
     "name": "stderr",
     "output_type": "stream",
     "text": [
      "C:\\Users\\Owner\\AppData\\Local\\Temp\\ipykernel_3972\\1977863075.py:2: FutureWarning: The default of observed=False is deprecated and will be changed to True in a future version of pandas. Pass observed=False to retain current behavior or observed=True to adopt the future default and silence this warning.\n",
      "  df_group = df_nadrop.groupby(['month_name'])['temperature'].mean()\n"
     ]
    },
    {
     "data": {
      "text/html": [
       "<div>\n",
       "<style scoped>\n",
       "    .dataframe tbody tr th:only-of-type {\n",
       "        vertical-align: middle;\n",
       "    }\n",
       "\n",
       "    .dataframe tbody tr th {\n",
       "        vertical-align: top;\n",
       "    }\n",
       "\n",
       "    .dataframe thead th {\n",
       "        text-align: right;\n",
       "    }\n",
       "</style>\n",
       "<table border=\"1\" class=\"dataframe\">\n",
       "  <thead>\n",
       "    <tr style=\"text-align: right;\">\n",
       "      <th></th>\n",
       "      <th>temperature</th>\n",
       "    </tr>\n",
       "    <tr>\n",
       "      <th>month_name</th>\n",
       "      <th></th>\n",
       "    </tr>\n",
       "  </thead>\n",
       "  <tbody>\n",
       "    <tr>\n",
       "      <th>April</th>\n",
       "      <td>72.405608</td>\n",
       "    </tr>\n",
       "    <tr>\n",
       "      <th>August</th>\n",
       "      <td>82.218935</td>\n",
       "    </tr>\n",
       "    <tr>\n",
       "      <th>December</th>\n",
       "      <td>66.463266</td>\n",
       "    </tr>\n",
       "    <tr>\n",
       "      <th>February</th>\n",
       "      <td>68.351427</td>\n",
       "    </tr>\n",
       "    <tr>\n",
       "      <th>January</th>\n",
       "      <td>64.721266</td>\n",
       "    </tr>\n",
       "  </tbody>\n",
       "</table>\n",
       "</div>"
      ],
      "text/plain": [
       "            temperature\n",
       "month_name             \n",
       "April         72.405608\n",
       "August        82.218935\n",
       "December      66.463266\n",
       "February      68.351427\n",
       "January       64.721266"
      ]
     },
     "execution_count": 160,
     "metadata": {},
     "output_type": "execute_result"
    }
   ],
   "source": [
    "# group data by month and veiew results\n",
    "df_group = df_nadrop.groupby(['month_name'])['temperature'].mean()\n",
    "df_group.reset_index()\n",
    "df_group.head()\n",
    "\n",
    "df_group = pd.DataFrame(df_group)\n",
    "df_group.head()"
   ]
  },
  {
   "cell_type": "code",
   "execution_count": 161,
   "metadata": {},
   "outputs": [
    {
     "name": "stdout",
     "output_type": "stream",
     "text": [
      "<class 'pandas.core.frame.DataFrame'>\n",
      "CategoricalIndex: 11 entries, April to September\n",
      "Data columns (total 1 columns):\n",
      " #   Column       Non-Null Count  Dtype  \n",
      "---  ------       --------------  -----  \n",
      " 0   temperature  11 non-null     float64\n",
      "dtypes: float64(1)\n",
      "memory usage: 487.0 bytes\n"
     ]
    },
    {
     "data": {
      "text/html": [
       "<div>\n",
       "<style scoped>\n",
       "    .dataframe tbody tr th:only-of-type {\n",
       "        vertical-align: middle;\n",
       "    }\n",
       "\n",
       "    .dataframe tbody tr th {\n",
       "        vertical-align: top;\n",
       "    }\n",
       "\n",
       "    .dataframe thead th {\n",
       "        text-align: right;\n",
       "    }\n",
       "</style>\n",
       "<table border=\"1\" class=\"dataframe\">\n",
       "  <thead>\n",
       "    <tr style=\"text-align: right;\">\n",
       "      <th></th>\n",
       "      <th>temperature</th>\n",
       "    </tr>\n",
       "    <tr>\n",
       "      <th>month_name</th>\n",
       "      <th></th>\n",
       "    </tr>\n",
       "  </thead>\n",
       "  <tbody>\n",
       "    <tr>\n",
       "      <th>April</th>\n",
       "      <td>72.405608</td>\n",
       "    </tr>\n",
       "    <tr>\n",
       "      <th>August</th>\n",
       "      <td>82.218935</td>\n",
       "    </tr>\n",
       "    <tr>\n",
       "      <th>December</th>\n",
       "      <td>66.463266</td>\n",
       "    </tr>\n",
       "    <tr>\n",
       "      <th>February</th>\n",
       "      <td>68.351427</td>\n",
       "    </tr>\n",
       "    <tr>\n",
       "      <th>January</th>\n",
       "      <td>64.721266</td>\n",
       "    </tr>\n",
       "  </tbody>\n",
       "</table>\n",
       "</div>"
      ],
      "text/plain": [
       "            temperature\n",
       "month_name             \n",
       "April         72.405608\n",
       "August        82.218935\n",
       "December      66.463266\n",
       "February      68.351427\n",
       "January       64.721266"
      ]
     },
     "execution_count": 161,
     "metadata": {},
     "output_type": "execute_result"
    }
   ],
   "source": [
    "df_group.info()\n",
    "df_group.head()"
   ]
  },
  {
   "cell_type": "code",
   "execution_count": 162,
   "metadata": {},
   "outputs": [
    {
     "data": {
      "image/png": "[encoded data removed]",
      "text/plain": [
       "<Figure size 640x480 with 1 Axes>"
      ]
     },
     "metadata": {},
     "output_type": "display_data"
    }
   ],
   "source": [
    "#df_group['month'] = pd.to_datetime(df_group['month_name']).dt.month\n",
    "\n",
    "# # Define the correct month order\n",
    "# month_order = ['January', 'February', 'March', 'April', 'May', 'June', \n",
    "#                'July', 'August', 'September', 'October', 'November', 'December']\n",
    "\n",
    "# df_group['month_name'] = df_group['month_name'].astype('Category', categories=month_order, ordered=True)\n",
    "\n",
    "\n",
    "sns.lineplot(data = df_group, x = 'month_name', y= 'temperature', marker='o')\n",
    "plt.xticks(rotation = 45)\n",
    "\n",
    "plt.xlabel('Months')\n",
    "plt.ylabel('Average Temperature')\n",
    "\n",
    "plt.show()"
   ]
  },
  {
   "cell_type": "code",
   "execution_count": 163,
   "metadata": {},
   "outputs": [
    {
     "data": {
      "text/html": [
       "<div>\n",
       "<style scoped>\n",
       "    .dataframe tbody tr th:only-of-type {\n",
       "        vertical-align: middle;\n",
       "    }\n",
       "\n",
       "    .dataframe tbody tr th {\n",
       "        vertical-align: top;\n",
       "    }\n",
       "\n",
       "    .dataframe thead th {\n",
       "        text-align: right;\n",
       "    }\n",
       "</style>\n",
       "<table border=\"1\" class=\"dataframe\">\n",
       "  <thead>\n",
       "    <tr style=\"text-align: right;\">\n",
       "      <th></th>\n",
       "      <th>temperature</th>\n",
       "      <th>relative_humidity</th>\n",
       "      <th>dew_point</th>\n",
       "      <th>month</th>\n",
       "      <th>month_name</th>\n",
       "      <th>time</th>\n",
       "      <th>time_day</th>\n",
       "      <th>year</th>\n",
       "    </tr>\n",
       "  </thead>\n",
       "  <tbody>\n",
       "    <tr>\n",
       "      <th>0</th>\n",
       "      <td>71.58</td>\n",
       "      <td>28.77</td>\n",
       "      <td>37.48</td>\n",
       "      <td>4</td>\n",
       "      <td>April</td>\n",
       "      <td>07:57:43</td>\n",
       "      <td>AM</td>\n",
       "      <td>2023</td>\n",
       "    </tr>\n",
       "    <tr>\n",
       "      <th>1</th>\n",
       "      <td>71.62</td>\n",
       "      <td>29.53</td>\n",
       "      <td>38.18</td>\n",
       "      <td>4</td>\n",
       "      <td>April</td>\n",
       "      <td>07:58:43</td>\n",
       "      <td>AM</td>\n",
       "      <td>2023</td>\n",
       "    </tr>\n",
       "    <tr>\n",
       "      <th>2</th>\n",
       "      <td>71.65</td>\n",
       "      <td>29.20</td>\n",
       "      <td>37.92</td>\n",
       "      <td>4</td>\n",
       "      <td>April</td>\n",
       "      <td>07:59:43</td>\n",
       "      <td>AM</td>\n",
       "      <td>2023</td>\n",
       "    </tr>\n",
       "    <tr>\n",
       "      <th>3</th>\n",
       "      <td>71.71</td>\n",
       "      <td>28.67</td>\n",
       "      <td>37.50</td>\n",
       "      <td>4</td>\n",
       "      <td>April</td>\n",
       "      <td>08:00:43</td>\n",
       "      <td>AM</td>\n",
       "      <td>2023</td>\n",
       "    </tr>\n",
       "    <tr>\n",
       "      <th>4</th>\n",
       "      <td>71.74</td>\n",
       "      <td>28.55</td>\n",
       "      <td>37.43</td>\n",
       "      <td>4</td>\n",
       "      <td>April</td>\n",
       "      <td>08:01:43</td>\n",
       "      <td>AM</td>\n",
       "      <td>2023</td>\n",
       "    </tr>\n",
       "  </tbody>\n",
       "</table>\n",
       "</div>"
      ],
      "text/plain": [
       "   temperature  relative_humidity  dew_point  month month_name      time  \\\n",
       "0        71.58              28.77      37.48      4      April  07:57:43   \n",
       "1        71.62              29.53      38.18      4      April  07:58:43   \n",
       "2        71.65              29.20      37.92      4      April  07:59:43   \n",
       "3        71.71              28.67      37.50      4      April  08:00:43   \n",
       "4        71.74              28.55      37.43      4      April  08:01:43   \n",
       "\n",
       "  time_day  year  \n",
       "0       AM  2023  \n",
       "1       AM  2023  \n",
       "2       AM  2023  \n",
       "3       AM  2023  \n",
       "4       AM  2023  "
      ]
     },
     "execution_count": 163,
     "metadata": {},
     "output_type": "execute_result"
    }
   ],
   "source": [
    "df_nadrop.head()"
   ]
  },
  {
   "cell_type": "code",
   "execution_count": 170,
   "metadata": {},
   "outputs": [
    {
     "name": "stdout",
     "output_type": "stream",
     "text": [
      "(141072, 8)\n"
     ]
    }
   ],
   "source": [
    "df_nadrop.isna().sum()\n",
    "print(df_nadrop.shape)"
   ]
  },
  {
   "cell_type": "code",
   "execution_count": null,
   "metadata": {},
   "outputs": [],
   "source": [
    "# Standardize the data\n",
    "scalar = StandardScaler()\n",
    "X = scalar.fit(X)\n"
   ]
  },
  {
   "cell_type": "code",
   "execution_count": 202,
   "metadata": {},
   "outputs": [
    {
     "name": "stdout",
     "output_type": "stream",
     "text": [
      "R-squared value: 0.97\n",
      "Mean squared error: 1.37\n"
     ]
    }
   ],
   "source": [
    "# build a model to predict temperature given relative humidity and dew point\n",
    "# split data into train test\n",
    "from sklearn.preprocessing import StandardScaler\n",
    "from sklearn.model_selection import train_test_split\n",
    "from sklearn.metrics import mean_squared_error, mean_absolute_error,r2_score\n",
    "\n",
    "\n",
    "X = df_nadrop[['relative_humidity', 'dew_point']].values\n",
    "y = df_nadrop['temperature'].values\n",
    "\n",
    "# scale the data \n",
    "scalar = StandardScaler()\n",
    "X = scalar.fit_transform(X)\n",
    "\n",
    "\n",
    "# split the data into train and test\n",
    "X_train, X_test, y_train, y_test = train_test_split(X, y, test_size=0.2, random_state=42)\n",
    "\n",
    "# print(X_train.shape)\n",
    "# print(y_train.shape)\n",
    "\n",
    "# linear regression\n",
    "from sklearn.linear_model import LinearRegression\n",
    "\n",
    "model = LinearRegression()\n",
    "model.fit(X_train, y_train)\n",
    "\n",
    "#print(y_test)\n",
    "# predict y_test\n",
    "y_pred = model.predict(X_test)\n",
    "\n",
    "# print R-squared and MSE\n",
    "r2 = r2_score(y_test,y_pred)\n",
    "mse = mean_squared_error(y_test,y_pred)\n",
    "# Print Results\n",
    "print(f'R-squared value: {r2:.2f}')\n",
    "print(f'Mean squared error: {mse:.2f}')\n"
   ]
  },
  {
   "cell_type": "code",
   "execution_count": 191,
   "metadata": {},
   "outputs": [
    {
     "data": {
      "image/png": "[encoded data removed]",
      "text/plain": [
       "<Figure size 800x600 with 1 Axes>"
      ]
     },
     "metadata": {},
     "output_type": "display_data"
    }
   ],
   "source": [
    "# Plot the results\n",
    "plt.figure(figsize=(8, 6))\n",
    "sns.set_style(\"white\")\n",
    "\n",
    "m, n = np.polyfit(y_test, y_pred, 1)\n",
    "\n",
    "plt.scatter(y_test, y_pred, color='blue', s=80, label='Data Points')\n",
    "plt.plot(y_test,y_test, color='black', linewidth=1, label='y = x')\n",
    "plt.plot(y_test, m*y_test + n, color='red', linewidth=1, label=\"Regression Line\")\n",
    "\n",
    "plt.xlabel(\"Actual Temperature\", fontsize=14, color = 'black')\n",
    "plt.ylabel(\"Predicted Temperature\", fontsize=14, color = 'black')\n",
    "\n",
    "#plt.title(\"Actual Body Mass vs Predicted Body Mass\", fontsize=16, color = 'black')\n",
    "plt.legend(edgecolor='black', fontsize=12, frameon=True)\n",
    "plt.show()"
   ]
  },
  {
   "cell_type": "code",
   "execution_count": 206,
   "metadata": {},
   "outputs": [
    {
     "name": "stdout",
     "output_type": "stream",
     "text": [
      "R-squared value: 0.97\n",
      "Mean squared error: 1.37\n"
     ]
    }
   ],
   "source": [
    "from sklearn.decomposition import PCA\n",
    "from sklearn.cross_decomposition import PLSRegression\n",
    "\n",
    "pls = PLSRegression(n_components=2)\n",
    "pls.fit(X_train,y_train)\n",
    "\n",
    "\n",
    "y_pred = pls.predict(X_test)\n",
    "\n",
    "# print R-squared and MSE\n",
    "r2 = r2_score(y_test,y_pred)\n",
    "mse = mean_squared_error(y_test,y_pred)\n",
    "# Print Results\n",
    "print(f'R-squared value: {r2:.2f}')\n",
    "print(f'Mean squared error: {mse:.2f}')\n",
    "\n"
   ]
  },
  {
   "cell_type": "code",
   "execution_count": 207,
   "metadata": {},
   "outputs": [
    {
     "data": {
      "image/png": "[encoded data removed]",
      "text/plain": [
       "<Figure size 800x600 with 1 Axes>"
      ]
     },
     "metadata": {},
     "output_type": "display_data"
    }
   ],
   "source": [
    "# Plot the results\n",
    "plt.figure(figsize=(8, 6))\n",
    "sns.set_style(\"white\")\n",
    "\n",
    "m, n = np.polyfit(y_test, y_pred, 1)\n",
    "\n",
    "plt.scatter(y_test, y_pred, color='blue', s=80, label='Data Points')\n",
    "plt.plot(y_test,y_test, color='black', linewidth=1, label='y = x')\n",
    "plt.plot(y_test, m*y_test + n, color='red', linewidth=1, label=\"Regression Line\")\n",
    "\n",
    "plt.xlabel(\"Actual Temperature\", fontsize=14, color = 'black')\n",
    "plt.ylabel(\"Predicted Temperature\", fontsize=14, color = 'black')\n",
    "\n",
    "#plt.title(\"Actual Body Mass vs Predicted Body Mass\", fontsize=16, color = 'black')\n",
    "plt.legend(edgecolor='black', fontsize=12, frameon=True)\n",
    "plt.show()"
   ]
  }
 ],
 "metadata": {
  "kernelspec": {
   "display_name": ".venv",
   "language": "python",
   "name": "python3"
  },
  "language_info": {
   "codemirror_mode": {
    "name": "ipython",
    "version": 3
   },
   "file_extension": ".py",
   "mimetype": "text/x-python",
   "name": "python",
   "nbconvert_exporter": "python",
   "pygments_lexer": "ipython3",
   "version": "3.11.9"
  }
 },
 "nbformat": 4,
 "nbformat_minor": 2
}
